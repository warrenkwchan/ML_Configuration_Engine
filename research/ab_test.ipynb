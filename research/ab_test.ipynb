{
 "cells": [
  {
   "cell_type": "code",
   "execution_count": 10,
   "id": "711425bf",
   "metadata": {},
   "outputs": [],
   "source": [
    "import json # will be needed for saving preprocessing details\n",
    "import numpy as np # for data manipulation\n",
    "import pandas as pd # for data manipulation\n",
    "from sklearn.model_selection import train_test_split # will be used for data split\n",
    "import requests"
   ]
  },
  {
   "cell_type": "code",
   "execution_count": 11,
   "id": "105b2574",
   "metadata": {},
   "outputs": [],
   "source": [
    "# load dataset\n",
    "df = pd.read_csv('https://raw.githubusercontent.com/pplonski/datasets-for-start/master/adult/data.csv', skipinitialspace=True)\n",
    "x_cols = [c for c in df.columns if c != 'income']\n",
    "# set input matrix and target column\n",
    "X = df[x_cols]\n",
    "y = df['income']\n",
    "# show first rows of data\n",
    "df.head()"
   ]
  },
  {
   "cell_type": "code",
   "execution_count": 17,
   "id": "4f2ca285",
   "metadata": {},
   "outputs": [],
   "source": [
    "# data split train / test\n",
    "X_train, X_test, y_train, y_test = train_test_split(X, y, test_size = 0.3, random_state=1234)"
   ]
  },
  {
   "cell_type": "code",
   "execution_count": 19,
   "id": "9fbd4402",
   "metadata": {},
   "outputs": [],
   "source": [
    "for i in range(100):\n",
    "    input_data = dict(X_test.iloc[i])\n",
    "    target = y_test.iloc[i]\n",
    "    r = requests.post(\"http://127.0.0.1:8000/api/v1/income_classifier/predict?status=ab_testing\", input_data)\n",
    "    response = r.json()\n",
    "    # provide feedback\n",
    "    requests.put(\"http://127.0.0.1:8000/api/v1/mlrequests/{}\".format(response[\"request_id\"]), {\"feedback\": target})\n"
   ]
  },
  {
   "cell_type": "code",
   "execution_count": null,
   "id": "4d19d8f8",
   "metadata": {},
   "outputs": [],
   "source": []
  }
 ],
 "metadata": {
  "kernelspec": {
   "display_name": "Python 3 (ipykernel)",
   "language": "python",
   "name": "python3"
  },
  "language_info": {
   "codemirror_mode": {
    "name": "ipython",
    "version": 3
   },
   "file_extension": ".py",
   "mimetype": "text/x-python",
   "name": "python",
   "nbconvert_exporter": "python",
   "pygments_lexer": "ipython3",
   "version": "3.8.9"
  }
 },
 "nbformat": 4,
 "nbformat_minor": 5
}
